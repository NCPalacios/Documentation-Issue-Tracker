{
  "cells": [
    {
      "cell_type": "markdown",
      "metadata": {
        "id": "view-in-github",
        "colab_type": "text"
      },
      "source": [
        "<a href=\"https://colab.research.google.com/github/NCPalacios/Documentation-Issue-Tracker/blob/main/Hands_On_Data_Visualization_in_Python_Part_I.ipynb\" target=\"_parent\"><img src=\"https://colab.research.google.com/assets/colab-badge.svg\" alt=\"Open In Colab\"/></a>"
      ]
    },
    {
      "cell_type": "markdown",
      "metadata": {
        "id": "cZt4GfAciBP9"
      },
      "source": [
        "# About Tutor\n",
        "\n",
        "Abdullah Ghifari - Data Scientist at Telkomsel "
      ]
    },
    {
      "cell_type": "markdown",
      "metadata": {
        "id": "Zp5xQ0-aiBQG"
      },
      "source": [
        "# Library and Data Preparation"
      ]
    },
    {
      "cell_type": "markdown",
      "metadata": {
        "id": "MldoDX5PiBQH"
      },
      "source": [
        "Panggil data `mpg.csv` dan siapkan library `numpy` dan `pandas`"
      ]
    },
    {
      "cell_type": "code",
      "execution_count": null,
      "metadata": {
        "id": "qpo99DLq2_kB"
      },
      "outputs": [],
      "source": [
        ""
      ]
    },
    {
      "cell_type": "code",
      "execution_count": null,
      "metadata": {
        "id": "vTipAk3j3ClG"
      },
      "outputs": [],
      "source": [
        ""
      ]
    },
    {
      "cell_type": "markdown",
      "metadata": {
        "id": "ygutWEnPiBQK"
      },
      "source": [
        "lihat informasi dari data yang kita miliki gunakan\n",
        "* `.head()`\n",
        "* `.info()`"
      ]
    },
    {
      "cell_type": "code",
      "execution_count": null,
      "metadata": {
        "id": "hqyQ3SxF6xwf"
      },
      "outputs": [],
      "source": [
        ""
      ]
    },
    {
      "cell_type": "code",
      "execution_count": null,
      "metadata": {
        "id": "QtwkSRDAiBQM"
      },
      "outputs": [],
      "source": [
        ""
      ]
    },
    {
      "cell_type": "markdown",
      "metadata": {
        "id": "7Mzk5S0ciBQN"
      },
      "source": [
        "# Getting Started"
      ]
    },
    {
      "cell_type": "markdown",
      "metadata": {
        "id": "Ldf5h9UjiBQP"
      },
      "source": [
        "Dlam melakukan visualisasi salah satu library yang paling sering digunakan adalah seaborn. \n",
        "\n",
        "Panggil library `seaborn` dan alias yang biasa digunakan adalah `sns`\n",
        "\n",
        "Tampilkan sebuah visualisasi scatterplot untuk yang pertama kalinya"
      ]
    },
    {
      "cell_type": "code",
      "execution_count": null,
      "metadata": {
        "id": "EUFdyaEd554D",
        "scrolled": true
      },
      "outputs": [],
      "source": [
        ""
      ]
    },
    {
      "cell_type": "markdown",
      "metadata": {
        "id": "0_KjJY8RiBQQ"
      },
      "source": [
        "Adapun library lain yang perlu disiapkan adalah `matplotlib.pyplot` alias `plt`.\n",
        "\n",
        "Matplotlib menampilkan gambar yang berbeda dibandingkan dengan seaborn. Karena seaborn sangat mudah digunakan kita akan menggunakan seaborn di sesi pertama ini."
      ]
    },
    {
      "cell_type": "code",
      "execution_count": null,
      "metadata": {
        "id": "j6rBJpKXiBQR"
      },
      "outputs": [],
      "source": [
        ""
      ]
    },
    {
      "cell_type": "markdown",
      "metadata": {
        "id": "0ASLGFsAiBQS"
      },
      "source": [
        "## Challenge #1"
      ]
    },
    {
      "cell_type": "markdown",
      "metadata": {
        "id": "XMbCJCVViBQT"
      },
      "source": [
        "Tampilkan scatter plot untuk melihat jumlah cylinder (`cyl`) dan konsumsi bahan bakarnya di dalam kota (`cty`)"
      ]
    },
    {
      "cell_type": "code",
      "execution_count": null,
      "metadata": {
        "id": "p_4WdqD9iBQU"
      },
      "outputs": [],
      "source": [
        ""
      ]
    },
    {
      "cell_type": "markdown",
      "metadata": {
        "id": "jDRe9HVviBQU"
      },
      "source": [
        "# Categorical Data"
      ]
    },
    {
      "cell_type": "markdown",
      "metadata": {
        "id": "veGxibqciBQV"
      },
      "source": [
        "Untuk menampilkan visualisasi terhadap data kategorik kita dapat menggunakan `sns.barplot`.\n",
        "\n",
        "Namun dalam proses menampilkan visualisasi, terkadang kita perlu meng`construct` (melakukan preprocessing) terhadap data terlebih dahulu.\n",
        "\n",
        "Sehingga data mampu divisualisasikan menggunakan fungsi yang ada pada library seaborn"
      ]
    },
    {
      "cell_type": "code",
      "execution_count": null,
      "metadata": {
        "id": "MGskEzFiiBQW"
      },
      "outputs": [],
      "source": [
        ""
      ]
    },
    {
      "cell_type": "code",
      "execution_count": null,
      "metadata": {
        "id": "O0fcWY-yiBQW"
      },
      "outputs": [],
      "source": [
        ""
      ]
    },
    {
      "cell_type": "markdown",
      "metadata": {
        "id": "5PpBOoXXiBQX"
      },
      "source": [
        "Menampilkan barchart sehingga bentuknya tersusun dari yang paling besar ke paling kecil.\n",
        "\n",
        "Gunakan `.sort_values` ketika preprocess datanya."
      ]
    },
    {
      "cell_type": "code",
      "execution_count": null,
      "metadata": {
        "id": "0I7GMbsgiBQX"
      },
      "outputs": [],
      "source": [
        ""
      ]
    },
    {
      "cell_type": "code",
      "execution_count": null,
      "metadata": {
        "id": "bMD3PdamiBQY"
      },
      "outputs": [],
      "source": [
        ""
      ]
    },
    {
      "cell_type": "markdown",
      "metadata": {
        "id": "0gOlSP5_iBQY"
      },
      "source": [
        "Menampilkan barchart secara horizontal.\n",
        "\n",
        "Ubah susunan x dan y nya"
      ]
    },
    {
      "cell_type": "code",
      "execution_count": null,
      "metadata": {
        "id": "LQIP-yeyiBQZ"
      },
      "outputs": [],
      "source": [
        ""
      ]
    },
    {
      "cell_type": "markdown",
      "metadata": {
        "id": "-04UTJ8iiBQZ"
      },
      "source": [
        "## Challenge #2"
      ]
    },
    {
      "cell_type": "markdown",
      "metadata": {
        "id": "W8RVSJb8iBQZ"
      },
      "source": [
        "Visualisasikan barchart dengan kategori apakah suatu kendaraan efisien atau tidak?\n",
        "\n",
        "Clue:\n",
        "- jika variable `hwy < 24` maka dapat dikatakan mobil `Inefficient` jika tidak `Efficient`\n",
        "- gunakan `np.where()` untuk membuat rule di atas"
      ]
    },
    {
      "cell_type": "code",
      "execution_count": null,
      "metadata": {
        "id": "Rb6Uzuq3iBQa"
      },
      "outputs": [],
      "source": [
        "# Construct a Dataset\n"
      ]
    },
    {
      "cell_type": "code",
      "execution_count": null,
      "metadata": {
        "id": "RGyaWnTgiBQb"
      },
      "outputs": [],
      "source": [
        ""
      ]
    },
    {
      "cell_type": "markdown",
      "metadata": {
        "id": "nBEyk6VziBQc"
      },
      "source": [
        "## 'Hue' in Barchart"
      ]
    },
    {
      "cell_type": "markdown",
      "metadata": {
        "id": "nzsiUyZtiBQc"
      },
      "source": [
        "Kita juga dapat membuat `grouped barchart` untuk menggabungkan kategori lain ke dalam barchart\n",
        "\n",
        "Coba lihat apakah mobil yang tidak efficient berasal dari kelas tersebut suv atau bukan?"
      ]
    },
    {
      "cell_type": "code",
      "execution_count": null,
      "metadata": {
        "id": "iA_Ec1m9iBQd"
      },
      "outputs": [],
      "source": [
        ""
      ]
    },
    {
      "cell_type": "code",
      "execution_count": null,
      "metadata": {
        "id": "fWm2y_0ViBQd"
      },
      "outputs": [],
      "source": [
        ""
      ]
    },
    {
      "cell_type": "markdown",
      "metadata": {
        "id": "6ZLWS-6ViBQd"
      },
      "source": [
        "# Numerical Data"
      ]
    },
    {
      "cell_type": "markdown",
      "metadata": {
        "id": "0Lok3kK0iBQe"
      },
      "source": [
        "Untuk melihat distribusi sebuah variable numeric kita dapat menggunakan `sns.displot` untuk menampilkan:\n",
        "1. Histogram\n",
        "2. KDE plot (density plot)\n",
        "3. ecdf plot (cumulative plot)\n",
        "4. Histogram + KDE plot"
      ]
    },
    {
      "cell_type": "markdown",
      "metadata": {
        "id": "oW3deKVciBQe"
      },
      "source": [
        "Untuk pertama kali kita coba tampilkan histogram saja dari variable `cty`"
      ]
    },
    {
      "cell_type": "code",
      "execution_count": null,
      "metadata": {
        "id": "kN-gzyvkiBQf"
      },
      "outputs": [],
      "source": [
        ""
      ]
    },
    {
      "cell_type": "markdown",
      "metadata": {
        "id": "Ok7lYSJ4iBQf"
      },
      "source": [
        "tampilkan versi kdenya, dengan menambahkan argument `kind='kde'`"
      ]
    },
    {
      "cell_type": "code",
      "execution_count": null,
      "metadata": {
        "id": "TnV-m-52iBQf"
      },
      "outputs": [],
      "source": [
        ""
      ]
    },
    {
      "cell_type": "markdown",
      "metadata": {
        "id": "yHKgGhzliBQg"
      },
      "source": [
        "Kode untuk histogram dapat menggunakan `kind='hist'`"
      ]
    },
    {
      "cell_type": "code",
      "execution_count": null,
      "metadata": {
        "id": "FtecSdHdiBQg"
      },
      "outputs": [],
      "source": [
        ""
      ]
    },
    {
      "cell_type": "markdown",
      "metadata": {
        "id": "Es01cigPiBQh"
      },
      "source": [
        "Kode untuk menampilkan cumulative distribution dapat menggunakan `kind='ecdf'`"
      ]
    },
    {
      "cell_type": "code",
      "execution_count": null,
      "metadata": {
        "id": "NGTn7JWOiBQh"
      },
      "outputs": [],
      "source": [
        ""
      ]
    },
    {
      "cell_type": "markdown",
      "metadata": {
        "id": "VnA5jZAeiBQh"
      },
      "source": [
        "terkadang kita perlu melihat distribusi sebuah data menggunakan histogram sekaligus kdenya.\n",
        "\n",
        "Gunakan `kde=True`"
      ]
    },
    {
      "cell_type": "code",
      "execution_count": null,
      "metadata": {
        "id": "rjyOzmyViBQi"
      },
      "outputs": [],
      "source": [
        ""
      ]
    },
    {
      "cell_type": "markdown",
      "metadata": {
        "id": "KScy20jriBQi"
      },
      "source": [
        "## Challenge #3"
      ]
    },
    {
      "cell_type": "markdown",
      "metadata": {
        "id": "nFTcYncJiBQi"
      },
      "source": [
        "Tampilkan distribusi konsumsi bahan bakar di jalan tol (`hwy`)"
      ]
    },
    {
      "cell_type": "code",
      "execution_count": null,
      "metadata": {
        "id": "8_vynWymiBQj"
      },
      "outputs": [],
      "source": [
        ""
      ]
    },
    {
      "cell_type": "markdown",
      "metadata": {
        "id": "qc-99fl9iBQj"
      },
      "source": [
        "## 'Hue' in Distribution Plot"
      ]
    },
    {
      "cell_type": "code",
      "execution_count": null,
      "metadata": {
        "id": "aEv_g2xIiBQj"
      },
      "outputs": [],
      "source": [
        ""
      ]
    },
    {
      "cell_type": "markdown",
      "metadata": {
        "id": "Yfp7kr2AiBQk"
      },
      "source": [
        "# Numerical x Categorical Data"
      ]
    },
    {
      "cell_type": "markdown",
      "metadata": {
        "id": "DENXzvxniBQk"
      },
      "source": [
        "Untuk menampilkan variable kategori dan numerik sekaligus kita dapat menggunakan visualisasi bernama boxplot.\n",
        "\n",
        "Di dalam python gunakan `sns.boxplot()` untuk menampilkan grafik tersebut"
      ]
    },
    {
      "cell_type": "code",
      "execution_count": null,
      "metadata": {
        "id": "h8xFcNrWiBQk"
      },
      "outputs": [],
      "source": [
        ""
      ]
    },
    {
      "cell_type": "markdown",
      "metadata": {
        "id": "sNkm1LOFiBQl"
      },
      "source": [
        "Di Indonesia biasanya dipermudah dengan istilah mobil matic atau manual. Kita ingin menyederhanakan variable `trans` menjadi `simple_trans`.\n",
        "\n",
        "Gunakan method `.apply` untuk membuat variable baru tersebut"
      ]
    },
    {
      "cell_type": "code",
      "execution_count": null,
      "metadata": {
        "id": "elnl9hefiBQl"
      },
      "outputs": [],
      "source": [
        ""
      ]
    },
    {
      "cell_type": "code",
      "execution_count": null,
      "metadata": {
        "id": "kFhXTiJciBQm"
      },
      "outputs": [],
      "source": [
        ""
      ]
    },
    {
      "cell_type": "code",
      "execution_count": null,
      "metadata": {
        "id": "TCi41HgtiBQm"
      },
      "outputs": [],
      "source": [
        ""
      ]
    },
    {
      "cell_type": "markdown",
      "metadata": {
        "id": "mbApuePziBQm"
      },
      "source": [
        "## Challenge #4"
      ]
    },
    {
      "cell_type": "markdown",
      "metadata": {
        "id": "dT7JJiNriBQm"
      },
      "source": [
        "Sebelumnya kita sudah membuat variable `is_suv`. Sekarang coba kita lihat bagaimana distribusi kendaraan suv untuk konsumsi bahan bakar didalam kota (`cty`)."
      ]
    },
    {
      "cell_type": "code",
      "execution_count": null,
      "metadata": {
        "id": "6CaZgBdKiBQn"
      },
      "outputs": [],
      "source": [
        ""
      ]
    },
    {
      "cell_type": "markdown",
      "metadata": {
        "id": "LRbwl5y_iBQn"
      },
      "source": [
        "# Numerical x Numerical Data"
      ]
    },
    {
      "cell_type": "markdown",
      "metadata": {
        "id": "L-JrEo1BiBQn"
      },
      "source": [
        "Untuk melihat distribusi 2 variable numerik kita dapat menggunakan scatterplot.\n",
        "\n",
        "Sama seperti visualisasi pertama kali gunakan `sns.scatterplot` untuk menampilkan grafik tersebut.\n",
        "\n",
        "Coba tampilkan cc (`displ`) dan konsumsi bahan bakar dalam kota (`cty`) dari seluruh mobil"
      ]
    },
    {
      "cell_type": "code",
      "execution_count": null,
      "metadata": {
        "id": "OpXq6iwZiBQo"
      },
      "outputs": [],
      "source": [
        ""
      ]
    },
    {
      "cell_type": "markdown",
      "metadata": {
        "id": "3govVG1xiBQo"
      },
      "source": [
        "## 'Hue' in Seaborn"
      ]
    },
    {
      "cell_type": "markdown",
      "metadata": {
        "id": "o8BuDQbPiBQo"
      },
      "source": [
        "Untuk menampilkan scatterplot berdasarkan sebuah kelompok dapat menggunakan argumen `hue`\n",
        "\n",
        "Tambahkan cylinder (`cyl`) ke dalam scatterplot"
      ]
    },
    {
      "cell_type": "code",
      "execution_count": null,
      "metadata": {
        "id": "71XDRi1niBQp"
      },
      "outputs": [],
      "source": [
        ""
      ]
    },
    {
      "cell_type": "markdown",
      "metadata": {
        "id": "0AVPJBCSiBQp"
      },
      "source": [
        "coba lihat distribusi berdasarkan kategori `class` nya"
      ]
    },
    {
      "cell_type": "code",
      "execution_count": null,
      "metadata": {
        "id": "1OuSvhMpiBQp"
      },
      "outputs": [],
      "source": [
        ""
      ]
    },
    {
      "cell_type": "markdown",
      "metadata": {
        "id": "--NhqfhjiBQq"
      },
      "source": [
        "## Challenge #5"
      ]
    },
    {
      "cell_type": "markdown",
      "metadata": {
        "id": "vMEV0YGpiBQq"
      },
      "source": [
        "Karena tampilan dari kategori `class` kurang begitu kelihatan. Coba tampilan hanya berdasarkan kategori `is_suv`."
      ]
    },
    {
      "cell_type": "code",
      "execution_count": null,
      "metadata": {
        "id": "YDIpnWrEiBQq"
      },
      "outputs": [],
      "source": [
        ""
      ]
    }
  ],
  "metadata": {
    "colab": {
      "name": "Hands - On - Data Visualization in Python - Part I.ipynb",
      "provenance": [],
      "include_colab_link": true
    },
    "kernelspec": {
      "display_name": "Python 3 (ipykernel)",
      "language": "python",
      "name": "python3"
    },
    "language_info": {
      "codemirror_mode": {
        "name": "ipython",
        "version": 3
      },
      "file_extension": ".py",
      "mimetype": "text/x-python",
      "name": "python",
      "nbconvert_exporter": "python",
      "pygments_lexer": "ipython3",
      "version": "3.9.7"
    }
  },
  "nbformat": 4,
  "nbformat_minor": 0
}